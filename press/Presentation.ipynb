{
 "cells": [
  {
   "cell_type": "markdown",
   "metadata": {
    "slideshow": {
     "slide_type": "slide"
    }
   },
   "source": [
    "<div style=\"background-image:url(../files/images/slide_background.png);background-repeat: no-repeat;background-size:cover;width:100%;height: 100%;color:white; padding-left: 50px; text-align: center\">\n",
    "    <div style=\"padding-bottom: 100px\">\n",
    "        <img src=\"../images/pycon_title.svg\">\n",
    "    </div>\n",
    "    <div style=\"font-weight: bold; font-size: 8.5em;\">High Performance Pandas</div>\n",
    "    <div style=\"font-size: 4.5em\">Leveraging the power of pandas' data manipulation</div>\n",
    "    <div style=\"font-size: 1.5em; font-style: italic; text-align: left; padding-left: 50px; text-align:center; padding-top: 20px\">\n",
    "        Feb 8-10, Bogot&aacute;, Colombia <br>\n",
    "        Luis David Camacho<br>\n",
    "        Lead Data Architect, Cyxtera Techonologies, Inc.\n",
    "    </div>\n",
    "</div>"
   ]
  },
  {
   "cell_type": "markdown",
   "metadata": {
    "slideshow": {
     "slide_type": "slide"
    }
   },
   "source": [
    "<div style=\"background-image:url(../files/images/slide_background.png);background-repeat: no-repeat;background-size:cover;width:100%;height: 100%;color:white; padding-left: 50px\">\n",
    "    <div style=\"font-weight: bold; font-size: 5em; padding-left: 50px\">Outline:</div>\n",
    "    <div style=\"display: inline-grid; width: 35%; text-align: justify; font-size: 1.15em; font-family: helvetica; padding-left: 100px;\">\n",
    "        <ul style=\"font-size:1.7em; list-style-image: url(../files/images/python_bullet_point.png)\">\n",
    "            <li>Intro</li>\n",
    "            <li>When Not to Use pandas</li>\n",
    "            <li>Combining DataFrames:\n",
    "                <ul style=\"list-style-image: url(../files/images/python_bullet_point.png)\">\n",
    "                    <li>Merge</li>\n",
    "                    <li>Concat</li>\n",
    "                    <li>Append</li>\n",
    "                </ul>\n",
    "            </li>\n",
    "            <li>Functional Approach:\n",
    "                <ul style=\"list-style-image: url(../files/images/python_bullet_point.png)\">\n",
    "                    <li>Employing Lambda functions</li>\n",
    "                    <li>Employing defined functions</li>\n",
    "                </ul>\n",
    "            </li>\n",
    "            <li>Data Querying:\n",
    "                <ul style=\"list-style-image: url(../files/images/python_bullet_point.png)\">\n",
    "                    <li>The .at &amp; .iat operator</li>\n",
    "                    <li>Loc, query, eval</li>\n",
    "                    <li>Multi-level index</li>\n",
    "                </ul>\n",
    "            </li>\n",
    "            <li>Series and DataFrames Operations</li>\n",
    "            <li>Selecting Columns</li>\n",
    "            <li>Windowing &amp; Expanding</li>\n",
    "            <li>Grouping and Aggregations:\n",
    "                <ul style=\"list-style-image: url(../files/images/python_bullet_point.png)\">\n",
    "                    <li>.groupby</li>\n",
    "                    <li>Merge, join, concat, &amp; append</li>\n",
    "                    <li>Aggregations</li>\n",
    "                </ul>\n",
    "            </li>\n",
    "<!--             <li>Best Practices:\n",
    "                <ul style=\"list-style-image: url(../files/images/python_bullet_point.png)\">\n",
    "                    <li>Creating features data set</li>\n",
    "                    <li>Building importable dictionaries</li>\n",
    "                    <li>Memory management</li>\n",
    "                </ul>\n",
    "            </li> -->\n",
    "            <!-- <li>Clustered pandas</li> -->\n",
    "        </ul>\n",
    "    </div>\n",
    "    <div style=\"display: inline-grid; width: 55%;height: 500px; background-image:url(../files/images/pandas.jpg); background-size: 800px 450px; background-repeat: no-repeat;  background-position: center; float: right; padding-bottom: 80px; padding-top: 150px; padding-right: 50px\"></div>\n",
    "    <div style=\"widht:150px;heigth: 100px; position: absolute;bottom: 2%; right: 0; width: 300px; height: 100px; background-image:url(../files/images/pycon_title.svg);background-repeat: no-repeat;background-size:contain; padding-right: 8%; padding-botom:10%\"></div>\n",
    "</div>"
   ]
  },
  {
   "cell_type": "markdown",
   "metadata": {},
   "source": [
    "<div style=\"background-image:url(../files/images/slide_background.png);background-repeat: no-repeat;background-size:cover;width:100%;height: 100%;color:white; padding-left: 50px\">\n",
    "<div style=\"font-weight: bold; font-size: 5em;\">Intro</div>\n",
    "\n",
    "<p style=\"text-align: justify; font-size: 2em; font-family: helvetica; padding-left: 50px; padding-right: 100px;\">\n",
    "    As software engineers and data scientists, we are constantly dealing with a big challenge: <span style=\"font-size: 1.3em;\">data manipulation!</span> The proper tool to use for a given project usually depends on how much data you're dealing with, but when your goal is to generate insights based on data or to create a machine learning algorithm, what you want is a fast way to query and transform this data. Pandas is among the most powerful python tools that can help you to overcome that challenge, allowing you to store large amounts of data in memory with a powerful API that simplifies the data querying and transformation code with high performance.\n",
    "</p>\n",
    "<div style=\"text-align: justify; font-size: 1.8em; font-family: helvetica; font-style: italic; padding-bottom: 80px; padding-left: 100px; padding-right: 100px;\">\n",
    "    <span>Current Pandas API:</span>\n",
    "    <ul style=\"list-style-image: url(../files/images/python_bullet_point.png)\">\n",
    "        <li>Series Object has 325 public methods/attributes</li>\n",
    "        <li>Data Frame Object has 224 public methods/attributes</li>\n",
    "        <li>Pandas has native support for 14 data formats and Python objects</li>\n",
    "    </ul>\n",
    "</div>\n",
    "<!-- <div style=\"widht:150px;heigth: 100px; position: absolute;bottom: 4%; right: 0; width: 300px; height: 100px; background-image:url(../files/images/pycon_title.svg);background-repeat: no-repeat;background-size:contain; padding-right: 8%; padding-botom:10%\"></div>     -->\n",
    "</div>\n",
    "<!-- mention the size of public methods of API -->"
   ]
  },
  {
   "cell_type": "code",
   "execution_count": null,
   "metadata": {},
   "outputs": [],
   "source": [
    "import pandas as pd\n",
    "from pandas.io.json import json_normalize\n",
    "import numpy as np\n",
    "import re\n",
    "from markupsafe import escape\n",
    "from IPython.display import display, Markdown\n",
    "from cryptography import x509\n",
    "from cryptography.hazmat.backends import default_backend\n",
    "from cryptography.hazmat.primitives import hashes"
   ]
  },
  {
   "cell_type": "code",
   "execution_count": null,
   "metadata": {},
   "outputs": [],
   "source": [
    "#constants\n",
    "base_path = '../data/raw/'\n",
    "html_path = base_path+'html/'"
   ]
  },
  {
   "cell_type": "code",
   "execution_count": null,
   "metadata": {},
   "outputs": [],
   "source": [
    "with open(base_path+'domains.list') as domains_file:\n",
    "    domains = domains_file.readlines()\n",
    "\n",
    "# show content sample (5 lines)\n",
    "for dom in domains[:5]:\n",
    "    display(Markdown('<span style=\"font-size: 2em\">{}</span>'.format(dom)))"
   ]
  },
  {
   "cell_type": "code",
   "execution_count": null,
   "metadata": {},
   "outputs": [],
   "source": [
    "# collect html data from domain\n",
    "def gather_html(domain_url):\n",
    "    with open(html_path+domain_url.strip()+'.html', 'r') as doc:\n",
    "        content = doc.read()\n",
    "    return content"
   ]
  },
  {
   "cell_type": "markdown",
   "metadata": {},
   "source": [
    "<div style=\"background-image:url(../files/images/slide_background.png);background-repeat: no-repeat;background-size:cover;width:100%;height: 100%;color:white; padding-left: 50px\">\n",
    "<div style=\"font-weight: bold; font-size: 5em;\">When Not to Use Pandas</div>\n",
    "\n",
    "<p style=\"text-align: justify; font-size: 2em; font-family: helvetica; padding-bottom: 80px; padding-left: 50px; padding-right: 100px;\">\n",
    "Though pandas is a very powerful tool, as with any other tool in the market, <span style=\"font-size: 1.3em\">it is not a silver bullet!</span> There are some cases in which pandas, no matter what, does not perform well. Let's look at some examples:\n",
    "</p>\n",
    "<!-- <div style=\"widht:150px;heigth: 100px; position: absolute;bottom: 4%; right: 0; width: 300px; height: 100px; background-image:url(../files/images/pycon_title.svg);background-repeat: no-repeat;background-size:contain; padding-right: 8%; padding-botom:10%\"></div>     -->\n",
    "</div>"
   ]
  },
  {
   "cell_type": "markdown",
   "metadata": {},
   "source": [
    "<div style=\"background-image:url(../files/images/slide_background.png);background-repeat: no-repeat;background-size:cover;width:100%;height: 100%;color:white; padding-left: 50px\">\n",
    "<div style=\"font-weight: bold; font-size: 4em; padding-left: 100px; \">Collecting Raw Data to Create a Start Data Set</div>\n",
    "\n",
    "<p style=\"text-align: justify; font-size: 2em; font-family: helvetica; padding-bottom: 80px; padding-left: 150px; padding-right: 100px;\">\n",
    "As pandas is made up of a set of objects, its structure is very complex, meaning that creating a Series object or a DataFrame object is a heavy task. Creation does work quickly within pandas if you have a list of values. However, when you have a list of references, such as URLs, and what you need is the HTML data from these URLs, you must collect the information using dictionaries and, once you have the dictionary ready, you can build a DataFrame object from the dictionary. Avoid creating a void DataFrame object and add a Series of one register to it. \n",
    "</p>\n",
    "<!-- <div style=\"widht:150px;heigth: 100px; position: absolute;bottom: 4%; right: 0; width: 300px; height: 100px; background-image:url(../files/images/pycon_title.svg);background-repeat: no-repeat;background-size:contain; padding-right: 8%; padding-botom:10%\"></div>     -->\n",
    "</div>"
   ]
  },
  {
   "cell_type": "code",
   "execution_count": null,
   "metadata": {},
   "outputs": [],
   "source": [
    "%%time\n",
    "start_df = pd.DataFrame()\n",
    "for domain in domains[:10000]:\n",
    "    start_df = start_df.append(pd.Series([gather_html(domain)], name=domain.strip()))"
   ]
  },
  {
   "cell_type": "code",
   "execution_count": null,
   "metadata": {},
   "outputs": [],
   "source": [
    "start_df.columns = ['content']\n",
    "start_df.head()"
   ]
  },
  {
   "cell_type": "code",
   "execution_count": null,
   "metadata": {},
   "outputs": [],
   "source": [
    "%%time\n",
    "doms = dict()\n",
    "for domain in domains[:10000]:\n",
    "    doms[domain.strip()] = {\"content\": gather_html(domain)}\n",
    "pandas_start_df = pd.DataFrame.from_dict(data=doms,orient='index')"
   ]
  },
  {
   "cell_type": "code",
   "execution_count": null,
   "metadata": {},
   "outputs": [],
   "source": [
    "pandas_start_df.head()"
   ]
  },
  {
   "cell_type": "markdown",
   "metadata": {},
   "source": [
    "<div style=\"background-image:url(../files/images/slide_background.png);background-repeat: no-repeat;background-size:cover;width:100%;height: 100%;color:white; padding-left: 50px\">\n",
    "<div style=\"font-weight: bold; font-size: 4em; padding-left: 100px\">Avoid Looping with Pandas</div>\n",
    "\n",
    "<p style=\"text-align: justify; font-size: 2em; font-family: helvetica; padding-bottom: 80px; padding-left: 150px; padding-right: 100px;\">\n",
    "Looping is a common task used to calculate specified metrics using previously collected data. This could be simply counting, filtering data, standardizing data types, etc. Pandas is made to help you with those kind of tasks, and it is very common to see code for those tasks made over the dictionaries before creating the data set. It is also easy to think: <span style=\"font-style:italic\">'Yes!. There are methods for counting, for example, but pandas is slow to perform complex data transformations'</span>. In fact, pandas is powerful because its API allows it to apply user-defined transformations over one Series or multiple Series contained in the DataFrame.\n",
    "</p>\n",
    "<!-- <div style=\"widht:150px;heigth: 100px; position: absolute;bottom: 4%; right: 0; width: 300px; height: 100px; background-image:url(../files/images/pycon_title.svg);background-repeat: no-repeat;background-size:contain; padding-right: 8%; padding-botom:10%\"></div>     -->\n",
    "</div>"
   ]
  },
  {
   "cell_type": "code",
   "execution_count": null,
   "metadata": {},
   "outputs": [],
   "source": [
    "df_registers = len(start_df)\n",
    "pandas_df_registers = len(pandas_start_df)"
   ]
  },
  {
   "cell_type": "code",
   "execution_count": null,
   "metadata": {},
   "outputs": [],
   "source": [
    "search_criteria = '(40\\d (Forbidden|Not Found))'\n",
    "error_domains = set()"
   ]
  },
  {
   "cell_type": "code",
   "execution_count": null,
   "metadata": {},
   "outputs": [],
   "source": [
    "%%time\n",
    "#filtering 40x errors in HTML\n",
    "for domain_row in start_df.iterrows():\n",
    "    if re.search(search_criteria, domain_row[1].content, re.I):\n",
    "        error_domains.add(domain_row[0])\n",
    "start_df.drop(error_domains, inplace=True)"
   ]
  },
  {
   "cell_type": "code",
   "execution_count": null,
   "metadata": {},
   "outputs": [],
   "source": [
    "print('total domains: '+ str(df_registers))\n",
    "print('# of domains to drop: ' + len(error_domains))\n",
    "print('total domains: '+ str(len(start_df)))"
   ]
  },
  {
   "cell_type": "code",
   "execution_count": null,
   "metadata": {},
   "outputs": [],
   "source": [
    "%%time\n",
    "pandas_start_df = pandas_start_df.loc[(pandas_start_df.content.apply(lambda x: False if re.search(search_criteria, x, flags=re.I) else True))]"
   ]
  },
  {
   "cell_type": "code",
   "execution_count": null,
   "metadata": {},
   "outputs": [],
   "source": [
    "print('total domains: '+ str(pandas_df_registers))\n",
    "print('# of domains to drop: ' + str(pandas_df_registers - len(pandas_start_df))\n",
    "print('total domains: '+ str(len(pandas_start_df)))"
   ]
  },
  {
   "cell_type": "markdown",
   "metadata": {},
   "source": [
    "<div style=\"background-image:url(../files/images/slide_background.png);background-repeat: no-repeat;background-size:cover;width:100%;height: 100%;color:white; padding-left: 50px\">\n",
    "<div style=\"font-weight: bold; font-size: 5em;\">Combining DataFrames</div>\n",
    "<p style=\"text-align: justify; font-size: 2em; font-family: helvetica; padding-left: 50px; padding-right: 100px;\">\n",
    "There are a variety of situations in which you have multiple DataFrames with complementary information. Three common cases are:\n",
    "</p>\n",
    "<ol style=\"font-size: 2em; font-family: helvetica; padding-bottom: 80px; padding-left: 250px;\">\n",
    "    <li>Vertical merge: add rows from the second DataFrame to the first DataFrame.</li>\n",
    "    <li>Horizontal merge: add columns from the second DataFrame to the first DataFrame.</li>\n",
    "    <li>Selective merge: combine the information of two data sets based on defined conditions.</li>\n",
    "</ol>\n",
    "<!-- <div style=\"widht:150px;heigth: 100px; position: absolute;bottom: 4%; right: 0; width: 300px; height: 100px; background-image:url(../files/images/pycon_title.svg);background-repeat: no-repeat;background-size:contain; padding-right: 8%; padding-botom:10%\"></div>     -->\n",
    "</div>"
   ]
  },
  {
   "cell_type": "code",
   "execution_count": null,
   "metadata": {},
   "outputs": [],
   "source": [
    "# new data set with more rows\n",
    "doms = dict()\n",
    "for domain in domains[10000:20000]:\n",
    "    doms[domain.strip()] = {\"content\": gather_html(domain)}\n",
    "additional_start_df = pd.DataFrame.from_dict(data=doms,orient='index')"
   ]
  },
  {
   "cell_type": "code",
   "execution_count": null,
   "metadata": {},
   "outputs": [],
   "source": [
    "# new data set with more columns\n",
    "with open('../data/raw/whois.list') as whois_file:\n",
    "    whois_df = pd.DataFrame.from_dict(eval(whois_file.read()), orient='index')"
   ]
  },
  {
   "cell_type": "code",
   "execution_count": null,
   "metadata": {},
   "outputs": [],
   "source": [
    "# new data set that requires a join\n",
    "with open('../data/raw/certs.list') as certs_file:\n",
    "    certs_df = pd.DataFrame.from_dict(eval(certs_file.read()), orient='index', columns=['cert'])\n",
    "    certs_df.cert = certs_df.cert.str.encode('utf-8')"
   ]
  },
  {
   "cell_type": "markdown",
   "metadata": {},
   "source": [
    "<div style=\"background-image:url(../files/images/slide_background.png);background-repeat: no-repeat;background-size:cover;width:100%;height: 100%;color:white; padding-left: 50px\">\n",
    "<div style=\"font-weight: bold; font-size: 4em; padding-left: 100px\">Append</div>\n",
    "\n",
    "<p style=\"text-align: justify; font-size: 2em; font-family: helvetica; padding-bottom: 80px; padding-left: 150px; padding-right: 100px;\">\n",
    "The append method adds rows to the end of a DataFrame object. This method is useful for combining similar objects and outputs a new, unified DataFrame object.\n",
    "</p>\n",
    "<!-- <div style=\"widht:150px;heigth: 100px; position: absolute;bottom: 4%; right: 0; width: 300px; height: 100px; background-image:url(../files/images/pycon_title.svg);background-repeat: no-repeat;background-size:contain; padding-right: 8%; padding-botom:10%\"></div>     -->\n",
    "</div>"
   ]
  },
  {
   "cell_type": "code",
   "execution_count": null,
   "metadata": {},
   "outputs": [],
   "source": [
    "%%time\n",
    "# add rows to the data frame\n",
    "full_df = pandas_start_df.append(additional_start_df)"
   ]
  },
  {
   "cell_type": "code",
   "execution_count": null,
   "metadata": {},
   "outputs": [],
   "source": [
    "print('starting shape: ' + str(pandas_start_df.shape))\n",
    "print('new shape: ' + str(full_df.shape))\n",
    "full_df.head()"
   ]
  },
  {
   "cell_type": "markdown",
   "metadata": {},
   "source": [
    "<div style=\"background-image:url(../files/images/slide_background.png);background-repeat: no-repeat;background-size:cover;width:100%;height: 100%;color:white; padding-left: 50px\">\n",
    "<div style=\"font-weight: bold; font-size: 4em; padding-left: 100px\">Concat</div>\n",
    "\n",
    "<p style=\"text-align: justify; font-size: 2em; font-family: helvetica; padding-bottom: 80px; padding-left: 150px; padding-right: 100px;\">\n",
    "Concat method gives you the option of joining two or more DataFrames or Series objects in a defined axis (columns or rows). This method allows you to specify joint conditions, mirroring the functions of the merge method.\n",
    "</p>\n",
    "<!-- <div style=\"widht:150px;heigth: 100px; position: absolute;bottom: 4%; right: 0; width: 300px; height: 100px; background-image:url(../files/images/pycon_title.svg);background-repeat: no-repeat;background-size:contain; padding-right: 8%; padding-botom:10%\"></div>     -->\n",
    "</div>"
   ]
  },
  {
   "cell_type": "code",
   "execution_count": null,
   "metadata": {},
   "outputs": [],
   "source": [
    "%%time\n",
    "full_whois = pd.concat([full_df, whois_df], sort=False)"
   ]
  },
  {
   "cell_type": "code",
   "execution_count": null,
   "metadata": {},
   "outputs": [],
   "source": [
    "print('starting shape: ' + str(full_df.shape))\n",
    "print('new shape: ' + str(full_whois.shape))\n",
    "full_whois.head()"
   ]
  },
  {
   "cell_type": "code",
   "execution_count": null,
   "metadata": {},
   "outputs": [],
   "source": [
    "full_whois.tail()"
   ]
  },
  {
   "cell_type": "markdown",
   "metadata": {},
   "source": [
    "<div style=\"background-image:url(../files/images/slide_background.png);background-repeat: no-repeat;background-size:cover;width:100%;height: 100%;color:white; padding-left: 50px\">\n",
    "<div style=\"font-weight: bold; font-size: 4em; padding-left: 100px\">Merge</div>\n",
    "\n",
    "<p style=\"text-align: justify; font-size: 2em; font-family: helvetica; padding-bottom: 80px; padding-left: 150px; padding-right: 100px;\">\n",
    "The merge method is the most customizable method to combine DataFrame elements. It allows you to join two DataFrames and, if needed, do so in multiple columns.\n",
    "</p>\n",
    "<!-- <div style=\"widht:150px;heigth: 100px; position: absolute;bottom: 4%; right: 0; width: 300px; height: 100px; background-image:url(../files/images/pycon_title.svg);background-repeat: no-repeat;background-size:contain; padding-right: 8%; padding-botom:10%\"></div>     -->\n",
    "</div>"
   ]
  },
  {
   "cell_type": "code",
   "execution_count": null,
   "metadata": {},
   "outputs": [],
   "source": [
    "%%time\n",
    "# inner join using merge\n",
    "result = pd.merge(full_df, whois_df, how='inner', left_index=True, right_index=True)"
   ]
  },
  {
   "cell_type": "code",
   "execution_count": null,
   "metadata": {},
   "outputs": [],
   "source": [
    "result[['QueryString','ServerName','ErrorCode', 'FoundMatch']].head()"
   ]
  },
  {
   "cell_type": "code",
   "execution_count": null,
   "metadata": {},
   "outputs": [],
   "source": [
    "%%time\n",
    "# left join using merge\n",
    "outer = pd.merge(full_df, whois_df, how='outer', left_index=True, right_index=True)"
   ]
  },
  {
   "cell_type": "code",
   "execution_count": null,
   "metadata": {},
   "outputs": [],
   "source": [
    "outer[['QueryString','ServerName','ErrorCode', 'FoundMatch']].head()"
   ]
  },
  {
   "cell_type": "markdown",
   "metadata": {},
   "source": [
    "<div style=\"background-image:url(../files/images/slide_background.png);background-repeat: no-repeat;background-size:cover;width:100%;height: 100%;color:white; padding-left: 50px\">\n",
    "<div style=\"font-weight: bold; font-size: 5em;\">Functional Approach</div>\n",
    "\n",
    "<p style=\"text-align: justify; font-size: 2em; font-family: helvetica; padding-bottom: 80px; padding-left: 50px; padding-right: 100px;\">\n",
    "Pandas incorporates a functional approach that includes an apply method. This method allows for the execution of a user-defined or anonymous function <span style=\"font-style: italic\">(know as lambda function in python)</span> on Series or DataFrame values. This is the most important functionality available to avoid looping or extracting data from DataFrames and then adding it the transformed result. The apply method will always output a series with the returned value of the passed function and the same index of the Series or DataFrame.\n",
    "</p>\n",
    "<!-- <div style=\"widht:150px;heigth: 100px; position: absolute;bottom: 4%; right: 0; width: 300px; height: 100px; background-image:url(../files/images/pycon_title.svg);background-repeat: no-repeat;background-size:contain; padding-right: 8%; padding-botom:10%\"></div>     -->\n",
    "</div>"
   ]
  },
  {
   "cell_type": "markdown",
   "metadata": {},
   "source": [
    "<div style=\"background-image:url(../files/images/slide_background.png);background-repeat: no-repeat;background-size:cover;width:100%;height: 100%;color:white; padding-left: 50px\">\n",
    "<div style=\"font-weight: bold; font-size: 4em; padding-left: 100px\">Employing Lambda Functions</div>\n",
    "\n",
    "<p style=\"text-align: justify; font-size: 2em; font-family: helvetica; padding-bottom: 80px; padding-left: 150px; padding-right: 100px;\">\n",
    "The first step to using a lambda function is to pass a lambda definition as an argument of the apply method. The lambda argument allows only one value at a time from a Series; this means that if you're using DataFrame.apply(), the lambda definition will be executed once for each value in the Series and for each column in the DataFrame.\n",
    "</p>\n",
    "<!-- <div style=\"widht:150px;heigth: 100px; position: absolute;bottom: 4%; right: 0; width: 300px; height: 100px; background-image:url(../files/images/pycon_title.svg);background-repeat: no-repeat;background-size:contain; padding-right: 8%; padding-botom:10%\"></div>     -->\n",
    "</div>"
   ]
  },
  {
   "cell_type": "code",
   "execution_count": null,
   "metadata": {},
   "outputs": [],
   "source": [
    "%%time\n",
    "# getting the certificate extension number\n",
    "serial_numbers = list()\n",
    "for cert in certs_df.cert.iteritems():\n",
    "    serial_numbers.append(len(x509.load_pem_x509_certificate(cert[1], default_backend()).extensions))"
   ]
  },
  {
   "cell_type": "code",
   "execution_count": null,
   "metadata": {},
   "outputs": [],
   "source": [
    "for sn in serial_numbers[:10]:\n",
    "    print(sn)\n",
    "print('trans len: ' + str(len(serial_numbers)))"
   ]
  },
  {
   "cell_type": "code",
   "execution_count": null,
   "metadata": {},
   "outputs": [],
   "source": [
    "%%time\n",
    "# lambda function transformation\n",
    "certs_df = certs_df.assign(extensions_number = certs_df.cert.apply(lambda cert: len(x509.load_pem_x509_certificate(cert, default_backend()).extensions)))"
   ]
  },
  {
   "cell_type": "code",
   "execution_count": null,
   "metadata": {},
   "outputs": [],
   "source": [
    "certs_df.head()"
   ]
  },
  {
   "cell_type": "markdown",
   "metadata": {},
   "source": [
    "<div style=\"background-image:url(../files/images/slide_background.png);background-repeat: no-repeat;background-size:cover;width:100%;height: 100%;color:white; padding-left: 50px\">\n",
    "<div style=\"font-weight: bold; font-size: 4em; padding-left: 100px\">Employing User-Defined Functions</div>\n",
    "\n",
    "<p style=\"text-align: justify; font-size: 2em; font-family: helvetica; padding-bottom: 80px; padding-left: 150px; padding-right: 100px;\">\n",
    "It is possible to pass a user-defined function to the apply method. However, it is important to be careful with the method definition as, when defining a lambda function, you can only receive one argument (in this case). When creating a user-defined method, a problem may occur if you receive multiple parameters.\n",
    "</p>\n",
    "<!-- <div style=\"widht:150px;heigth: 100px; position: absolute;bottom: 4%; right: 0; width: 300px; height: 100px; background-image:url(../files/images/pycon_title.svg);background-repeat: no-repeat;background-size:contain; padding-right: 8%; padding-botom:10%\"></div>     -->\n",
    "</div>"
   ]
  },
  {
   "cell_type": "code",
   "execution_count": null,
   "metadata": {},
   "outputs": [],
   "source": [
    "def parse_cert (cert_base64):\n",
    "    cert_obj = x509.load_pem_x509_certificate(cert_base64, default_backend())\n",
    "    return {'fingerprint': cert_obj.fingerprint(hashes.SHA1()).hex(),\n",
    "           'issuer': ','.join([name.rfc4514_string() for name in cert_obj.issuer.rdns]),\n",
    "           'subject': ','.join([name.rfc4514_string() for name in cert_obj.subject.rdns]),\n",
    "           'not_valid_before': cert_obj.not_valid_before,\n",
    "           'not_valid_after': cert_obj.not_valid_after}"
   ]
  },
  {
   "cell_type": "code",
   "execution_count": null,
   "metadata": {},
   "outputs": [],
   "source": [
    "%%time\n",
    "certs_df.cert.apply(parse_cert).head()"
   ]
  },
  {
   "cell_type": "code",
   "execution_count": null,
   "metadata": {},
   "outputs": [],
   "source": [
    "json_normalize(certs_df.cert.apply(parse_cert)).head()"
   ]
  },
  {
   "cell_type": "code",
   "execution_count": null,
   "metadata": {},
   "outputs": [],
   "source": [
    "full_certs_df = pd.merge(certs_df.reset_index(), json_normalize(certs_df.cert.apply(parse_cert)), left_index=True, right_index=True, how='inner').set_index(['index'])"
   ]
  },
  {
   "cell_type": "code",
   "execution_count": null,
   "metadata": {},
   "outputs": [],
   "source": [
    "full_certs_df.head()"
   ]
  },
  {
   "cell_type": "markdown",
   "metadata": {},
   "source": [
    "<div style=\"background-image:url(../files/images/slide_background.png);background-repeat: no-repeat;background-size:cover;width:100%;height: 100%;color:white; padding-left: 50px\">\n",
    "<div style=\"font-weight: bold; font-size: 5em;\">Data Querying</div>\n",
    "\n",
    "<p style=\"text-align: justify; font-size: 2em; font-family: helvetica; padding-bottom: 80px; padding-left: 50px; padding-right: 100px;\">\n",
    "The very first step to leverage the power of pandas is to know how to use the most common methods of its API. These methods are built to be fast and simple, saving you the time it would take to code it by yourself.\n",
    "</p>\n",
    "<!-- <div style=\"widht:150px;heigth: 100px; position: absolute;bottom: 4%; right: 0; width: 300px; height: 100px; background-image:url(../files/images/pycon_title.svg);background-repeat: no-repeat;background-size:contain; padding-right: 8%; padding-botom:10%\"></div>     -->\n",
    "</div>"
   ]
  },
  {
   "cell_type": "code",
   "execution_count": null,
   "metadata": {},
   "outputs": [],
   "source": [
    "outer = outer.join(full_certs_df, how='outer')"
   ]
  },
  {
   "cell_type": "markdown",
   "metadata": {},
   "source": [
    "<div style=\"background-image:url(../files/images/slide_background.png);background-repeat: no-repeat;background-size:cover;width:100%;height: 100%;color:white; padding-left: 50px\">\n",
    "<div style=\"font-weight: bold; font-size: 4em; padding-left: 100px\">The .at &amp; .iat Operator</div>\n",
    "\n",
    "<p style=\"text-align: justify; font-size: 2em; font-family: helvetica; padding-bottom: 80px; padding-left: 150px; padding-right: 100px;\">\n",
    "Though it is advisable to avoid modifying individual values in a data frame, there may be some cases where it is necesary. If you find yourself in this situation, use the .at or .iat operators. The .at and .iat operators perform similarly to .loc and .iloc operators for querying, but are faster to assign values and allow you to modify an individual cell in place by default. Nonetheless, .at and .iat only work for modifying a single cell.\n",
    "</p>\n",
    "<!-- <div style=\"widht:150px;heigth: 100px; position: absolute;bottom: 4%; right: 0; width: 300px; height: 100px; background-image:url(../files/images/pycon_title.svg);background-repeat: no-repeat;background-size:contain; padding-right: 8%; padding-botom:10%\"></div>     -->\n",
    "</div>"
   ]
  },
  {
   "cell_type": "code",
   "execution_count": null,
   "metadata": {},
   "outputs": [],
   "source": [
    "%%time\n",
    "for string in outer.QueryString.iteritems():\n",
    "    if string[1] is np.nan:\n",
    "        outer.at[string[0], 'QueryString'] = string[0]"
   ]
  },
  {
   "cell_type": "code",
   "execution_count": null,
   "metadata": {},
   "outputs": [],
   "source": [
    "outer[['QueryString']].head()"
   ]
  },
  {
   "cell_type": "code",
   "execution_count": null,
   "metadata": {},
   "outputs": [],
   "source": [
    "outer.columns"
   ]
  },
  {
   "cell_type": "code",
   "execution_count": null,
   "metadata": {},
   "outputs": [],
   "source": [
    "%%time\n",
    "cur_loc = 0\n",
    "for string in outer.ErrorCode.iteritems():\n",
    "    if string[1] is np.nan:\n",
    "        outer.iat[cur_loc, 3] = 'Not Found'\n",
    "    cur_loc += 1"
   ]
  },
  {
   "cell_type": "code",
   "execution_count": null,
   "metadata": {},
   "outputs": [],
   "source": [
    "outer[['ErrorCode']].head()"
   ]
  },
  {
   "cell_type": "code",
   "execution_count": null,
   "metadata": {},
   "outputs": [],
   "source": [
    "%%time\n",
    "outer.extensions_number.fillna(0, inplace=True)"
   ]
  },
  {
   "cell_type": "code",
   "execution_count": null,
   "metadata": {},
   "outputs": [],
   "source": [
    "outer[['extensions_number']].head()"
   ]
  },
  {
   "cell_type": "markdown",
   "metadata": {},
   "source": [
    "<div style=\"background-image:url(../files/images/slide_background.png);background-repeat: no-repeat;background-size:cover;width:100%;height: 100%;color:white; padding-left: 50px\">\n",
    "<div style=\"font-weight: bold; font-size: 5em;\">Multi-Level Indexes</div>\n",
    "\n",
    "<p style=\"text-align: justify; font-size: 2em; font-family: helvetica; padding-left: 50px; padding-right: 100px;\">\n",
    "When you create a table in most database engines, it is mandatory to create an index. The DataFrame object in pandas is similar to a database table and is also mandatory to have and index. Indexing is critical as it creates a space to order the data contained in a table with one or more columns. This improves query perfomance over searching through randomly distributed data in the hard drive. These indexes must be carefully selected based on the data you most frequently filter.\n",
    "</p>\n",
    "<p style=\"text-align: justify; font-size: 2em; font-family: helvetica; padding-bottom: 80px; padding-left: 50px; padding-right: 100px;\">\n",
    "Pandas offers a multi-level index as a way to support multiple-column indexes. This feature is useful when you have multiple criteria to search for on your DataFrame. The multilevel index offers the same capabilities of a database multicolumn index.\n",
    "</p>\n",
    "<!-- <div style=\"widht:150px;heigth: 100px; position: absolute;bottom: 4%; right: 0; width: 300px; height: 100px; background-image:url(../files/images/pycon_title.svg);background-repeat: no-repeat;background-size:contain; padding-right: 8%; padding-botom:10%\"></div>     -->\n",
    "</div>"
   ]
  },
  {
   "cell_type": "code",
   "execution_count": null,
   "metadata": {},
   "outputs": [],
   "source": [
    "# new index level for data frame\n",
    "outer.set_index('fingerprint', append=True, inplace=True, drop=False)"
   ]
  },
  {
   "cell_type": "code",
   "execution_count": null,
   "metadata": {},
   "outputs": [],
   "source": [
    "outer.head()"
   ]
  },
  {
   "cell_type": "code",
   "execution_count": null,
   "metadata": {},
   "outputs": [],
   "source": [
    "display(Markdown('<span style=\"font-size: 2em\">{}</span>'.format(outer.columns)))"
   ]
  },
  {
   "cell_type": "code",
   "execution_count": null,
   "metadata": {},
   "outputs": [],
   "source": [
    "outer.set_index(['ServerName', 'extensions_number', 'issuer'], append=True, inplace=True, drop=False)"
   ]
  },
  {
   "cell_type": "code",
   "execution_count": null,
   "metadata": {},
   "outputs": [],
   "source": [
    "outer.head()"
   ]
  },
  {
   "cell_type": "markdown",
   "metadata": {},
   "source": [
    "<div style=\"background-image:url(../files/images/slide_background.png);background-repeat: no-repeat;background-size:cover;width:100%;height: 100%;color:white; padding-left: 50px\">\n",
    "<div style=\"font-weight: bold; font-size: 4em; padding-left: 100px\">.loc, .query &amp; .eval</div>\n",
    "\n",
    "<p style=\"text-align: justify; font-size: 2em; font-family: helvetica; padding-bottom: 80px; padding-left: 150px; padding-right: 100px;\">\n",
    "There is a time and a place for everything, and the same goes for querying data using pandas. However, each way has different performance and memory consumption. The following sections will compare the behavior on a small sample data set and describe how the process should behave in larger data sets. Nevertheless, all will obtain the same results.\n",
    "</p>\n",
    "<!-- <div style=\"widht:150px;heigth: 100px; position: absolute;bottom: 4%; right: 0; width: 300px; height: 100px; background-image:url(../files/images/pycon_title.svg);background-repeat: no-repeat;background-size:contain; padding-right: 8%; padding-botom:10%\"></div>     -->\n",
    "</div>"
   ]
  },
  {
   "cell_type": "code",
   "execution_count": null,
   "metadata": {},
   "outputs": [],
   "source": [
    "div_pattern = '({})'.format(escape('<div'))\n",
    "script_pattern = '({})'.format(escape('<script'))\n",
    "outer = outer.assign(div_count=outer.content.str.count(div_pattern),\n",
    "            script_count=outer.content.str.count(script_pattern))"
   ]
  },
  {
   "cell_type": "markdown",
   "metadata": {},
   "source": [
    "<div style=\"background-image:url(../files/images/slide_background.png);background-repeat: no-repeat;background-size:cover;width:100%;height: 100%;color:white; padding-left: 50px\">\n",
    "<div style=\"font-weight: bold; font-size: 4em; padding-left: 100px\">.loc Operator</div>\n",
    "\n",
    "<p style=\"text-align: justify; font-size: 2em; font-family: helvetica; padding-bottom: 80px; padding-left: 150px; padding-right: 100px;\">\n",
    "The .loc operator performs well when querying data on indexes in small DataFrames. Compared to the .at operator, .loc is slower to set values and does not modify the original DataFrame; instead, it creates a copy. However, it exhibits similar querying perfomance. This method returns a subset of the DataFrame containing only the specified indexes; it also supports boolean indexing: a series of booleans with the same index as a DataFrame and only returns those with True.\n",
    "</p>\n",
    "<!-- <div style=\"widht:150px;heigth: 100px; position: absolute;bottom: 4%; right: 0; width: 300px; height: 100px; background-image:url(../files/images/pycon_title.svg);background-repeat: no-repeat;background-size:contain; padding-right: 8%; padding-botom:10%\"></div>     -->\n",
    "</div>"
   ]
  },
  {
   "cell_type": "code",
   "execution_count": null,
   "metadata": {},
   "outputs": [],
   "source": [
    "%%time\n",
    "outer.loc['google.com']"
   ]
  },
  {
   "cell_type": "code",
   "execution_count": null,
   "metadata": {},
   "outputs": [],
   "source": [
    "outer.loc[(slice(None), slice('4c33f58ab299a41436e2423902240875e8cceacb', '4c33f58ab299a41436e2423902240875e8cceacb')), :].head()"
   ]
  },
  {
   "cell_type": "code",
   "execution_count": null,
   "metadata": {},
   "outputs": [],
   "source": [
    "outer.loc[(slice(None), slice(None), slice(None), slice(10,10)), :].head()"
   ]
  },
  {
   "cell_type": "markdown",
   "metadata": {},
   "source": [
    "<div style=\"background-image:url(../files/images/slide_background.png);background-repeat: no-repeat;background-size:cover;width:100%;height: 100%;color:white; padding-left: 50px\">\n",
    "<div style=\"font-weight: bold; font-size: 4em; padding-left: 100px\">.query Method</div>\n",
    "\n",
    "<p style=\"text-align: justify; font-size: 2em; font-family: helvetica; padding-left: 150px; padding-right: 100px;\">\n",
    "The .query method, from the DataFrame object, receives a string that represents an expression and evaluates it. The expression syntax supported by this method could be plain python or numpy expression <span style=\"font-style: italic\">(numexpr)</span>. This method also supports symbol and natural logical operators: and = &amp;, or = | and not = ~, and also supports other common arithmetic operators like &lt;,&gt;,==,!=,+,-,=, among others.\n",
    "</p>\n",
    "<p style=\"text-align: justify; font-size: 2em; font-family: helvetica; padding-left: 150px; padding-right: 100px;\">\n",
    "This method is faster compared to .loc query when your DataFrame contains more than 100,000 rows. But, it is also a very useful way to query data when you have a MultilevelIndex. One of the advantages of this method is that it uses cleaner syntax than the index query, and the query meta-syntax also allows you to use the DataFrame column names as variables and to use local user-defined variables (using the @ symbol to access them).\n",
    "</p>\n",
    "<p style=\"text-align: justify; font-size: 2em; font-family: helvetica; padding-left: 150px; padding-right: 100px;\">\n",
    "<span style=\"font-style: bold; font-size: 1.3em\">Fun fact:</span> Using numexp with the query method is faster than using plain python when you have more than 200,000 rows.\n",
    "</p>\n",
    "<div style=\"display: block; background-image:url(../files/images/query-perf.png); background-size: cover; background-repeat: no-repeat;  background-position: center; padding-bottom: 80px; width: 700px; height: 450px; margin-left: 10%\"></div>\n",
    "<p style=\"text-align: justify; font-size: 1.2em;  font-style: italic; font-family: helvetica; padding-bottom: 80px; padding-left: 10%; padding-right: 100px;\">\n",
    "    Query method comparison using python and numexpr syntax<br>\n",
    "    taken from: <a href=\"https://pandas.pydata.org/pandas-docs/stable/user_guide/indexing.html#performance-of-query\">https://pandas.pydata.org/pandas-docs/stable/user_guide/indexing.html#performance-of-query</a>\n",
    "</p>\n",
    "\n",
    "<!-- <div style=\"widht:150px;heigth: 100px; position: absolute;bottom: 2%; right: 0; width: 300px; height: 100px; background-image:url(../files/images/pycon_title.svg);background-repeat: no-repeat;background-size:contain; padding-right: 8%; padding-botom:10%\"></div>     -->\n",
    "</div>"
   ]
  },
  {
   "cell_type": "code",
   "execution_count": null,
   "metadata": {},
   "outputs": [],
   "source": [
    "search_pattern = '\\.com'"
   ]
  },
  {
   "cell_type": "code",
   "execution_count": null,
   "metadata": {},
   "outputs": [],
   "source": [
    "%%time\n",
    "temp_df = outer.query('div_count > 100 and script_count > 1')"
   ]
  },
  {
   "cell_type": "code",
   "execution_count": null,
   "metadata": {},
   "outputs": [],
   "source": [
    "%%time\n",
    "temp_df = outer.loc[(outer.div_count > 100) & (outer.script_count > 1)]"
   ]
  },
  {
   "cell_type": "code",
   "execution_count": null,
   "metadata": {},
   "outputs": [],
   "source": [
    "%%time\n",
    "temp_df = outer.loc[(slice(None), slice(None), slice(None), slice(10,10)), :]"
   ]
  },
  {
   "cell_type": "code",
   "execution_count": null,
   "metadata": {},
   "outputs": [],
   "source": [
    "%%time\n",
    "temp_df = outer.query('extensions_number == 10')"
   ]
  },
  {
   "cell_type": "code",
   "execution_count": null,
   "metadata": {},
   "outputs": [],
   "source": [
    "search_pattern = '\\.com'"
   ]
  },
  {
   "cell_type": "code",
   "execution_count": null,
   "metadata": {},
   "outputs": [],
   "source": [
    "%%time\n",
    "temp_df = outer.query('ilevel_0.str.contains(@search_pattern) and extensions_number == 10 and div_count > 100 and script_count > 1')"
   ]
  },
  {
   "cell_type": "markdown",
   "metadata": {},
   "source": [
    "<div style=\"background-image:url(../files/images/slide_background.png);background-repeat: no-repeat;background-size:cover;width:100%;height: 100%;color:white; padding-left: 50px\">\n",
    "<div style=\"font-weight: bold; font-size: 4em; padding-left: 100px\">.eval Method</div>\n",
    "\n",
    "<p style=\"text-align: justify; font-size: 2em; font-family: helvetica;padding-left: 150px; padding-right: 100px;\">\n",
    "The .eval method is similar to the query method in large data sets and slower in small ones. It belongs to the pandas package and not the DataFrame object, meaning you need to specify the data frame you want to compare. It uses plain python syntax and it doesn't restrict to pandas objects, making it vulnerable to code injections. This method has similar performance to the .query method both in CPU usage and memory consumption. Nevertheless, both .query and .eval are able to use all the data frame and series methods.\n",
    "</p>\n",
    "<p style=\"text-align: justify; font-size: 2em; font-family: helvetica; padding-bottom: 80px; padding-left: 150px; padding-right: 100px;\">\n",
    "It is important to remark that the .eval method returns a Series object with boolean values and indexes, meaning you have to use index query based on the result. If you want to return a DataFrame from the .eval method, you have to write the whole expression; the .query method returns an actual DataFrame.\n",
    "</p>\n",
    "<!-- <div style=\"widht:150px;heigth: 100px; position: absolute;bottom: 4%; right: 0; width: 300px; height: 100px; background-image:url(../files/images/pycon_title.svg);background-repeat: no-repeat;background-size:contain; padding-right: 8%; padding-botom:10%\"></div>     -->\n",
    "</div>"
   ]
  },
  {
   "cell_type": "code",
   "execution_count": null,
   "metadata": {},
   "outputs": [],
   "source": [
    "%%time\n",
    "temp_df = pd.eval('outer[outer.div_count > 100 and outer.script_count > 1]')"
   ]
  },
  {
   "cell_type": "code",
   "execution_count": null,
   "metadata": {},
   "outputs": [],
   "source": [
    "# eval method can evaluate any python expression\n",
    "pd.eval('2**2')"
   ]
  },
  {
   "cell_type": "markdown",
   "metadata": {},
   "source": [
    "<div style=\"background-image:url(../files/images/slide_background.png);background-repeat: no-repeat;background-size:cover;width:100%;height: 100%;color:white; padding-left: 50px\">\n",
    "<div style=\"font-weight: bold; font-size: 5em;\">Series and DataFrames Operations</div>\n",
    "\n",
    "<p style=\"text-align: justify; font-size: 2em; font-family: helvetica; padding-left: 50px; padding-right: 100px;\">\n",
    "Pandas offers not only Series and DataFrame objects, but a whole set of common statistical methods, plot methods, and overloaded operators to perform vectorized operations on Series objects.\n",
    "</p>\n",
    "<div style=\"display: inline-table; width: 100%; padding-left: 100px; padding-bottom: 80px\">\n",
    "    <div style=\"display: inline-row; width: 100%;\">\n",
    "        <div style=\"display: inline-grid; padding-left: 3em; width:20%\">\n",
    "            <span style=\"font-weight: bold; font-size: 2em\">Operator Overloading</span>\n",
    "        </div>\n",
    "        <div style=\"display: inline-grid; font-size: 1.7em; max-width:60%; padding-left: 30px\">\n",
    "            Series and DataFrame objects overload the most common operator, allowing you to use simple syntax similar to the variables used in pure python. The overloaded operators are: <span style=\"font-weight: bold\">=,==,+,-,*,/,**,%,&amp;,|,~,!=,&gt;,&lt;,&gt;=,&lt;=</span>.\n",
    "        </div>\n",
    "    </div>\n",
    "    <div style=\"display: inline-row\">\n",
    "        <div style=\"display: inline-grid; padding-left: 3em; width:20%\">\n",
    "            <span style=\"font-weight: bold; font-size: 2em\">.plot</span>\n",
    "        </div>\n",
    "        <div style=\"display: inline-grid; font-size: 1.7em; max-width:60%; padding-left: 30px\">\n",
    "        Pandas DataFrame includes a set of built-in plots. This prevents you from having to use external libraries for plotting and allows you to use the DataFrame column names as inputs. The implemented plot types are: \n",
    "            <ul style=\"list-style-image: url(../files/images/python_bullet_point.png)\">\n",
    "                <li>‘line’ : line plot (default)</li>\n",
    "                <li>‘bar’ : vertical bar plot</li>\n",
    "                <li>‘barh’ : horizontal bar plot</li>\n",
    "                <li>‘hist’ : histogram</li>\n",
    "                <li>‘box’ : boxplot</li>\n",
    "                <li>‘kde’ : Kernel Density Estimation plot</li>\n",
    "                <li>‘density’ : same as ‘kde’</li>\n",
    "                <li>‘area’ : area plot</li>\n",
    "                <li>‘pie’ : pie plot</li>\n",
    "                <li>‘scatter’ : scatter plot</li>\n",
    "                <li>‘hexbin’ : hexbin plot </li>\n",
    "            </ul>\n",
    "        </div>\n",
    "    </div>\n",
    "    <div style=\"display: inline-row\">\n",
    "        <div style=\"display: inline-grid; padding-left: 3em; width:20%\">\n",
    "            <span style=\"font-weight: bold; font-size: 2em\">.to_latex</span>\n",
    "        </div>\n",
    "        <div style=\"display: inline-grid; font-size: 1.7em; max-width:60%; padding-left: 30px\">\n",
    "        Use this method to create a DataFrame or Series object into tabular latext. This requires the use of a package{booktabs}.\n",
    "        </div>\n",
    "    </div>\n",
    "    <div style=\"display: inline-row\">\n",
    "        <div style=\"display: inline-grid; padding-left: 3em; width:20%\">\n",
    "            <span style=\"font-weight: bold; font-size: 2em\">.json_normalize</span>\n",
    "        </div>\n",
    "        <div style=\"display: inline-grid; font-size: 1.7em; max-width:60%; padding-left: 30px\">\n",
    "        With a JSON data set, it is common to have a nested JSON in your list of objects. Using the pandas.from_record method turns these nested values into string columns; the pandas.io.json.json_normalize method automatically turns the JSON object into a flattened version with each of the fields creating a new column.\n",
    "        </div>\n",
    "    </div>\n",
    "    <div style=\"display: inline-row\">\n",
    "        <div style=\"display: inline-grid; padding-left: 3em; width:20%\">\n",
    "            <span style=\"font-weight: bold; font-size: 2em\">.to_dict</span>\n",
    "        </div>\n",
    "        <div style=\"display: inline-grid; font-size: 1.7em; max-width:60%; padding-left: 30px\">\n",
    "        This method turns a DataFrame or Series object into a python dictionary and allows you to specify the structure of the dictionary.\n",
    "        </div>\n",
    "    </div>\n",
    "    <div style=\"display: inline-row\">\n",
    "        <div style=\"display: inline-grid; padding-left: 3em; width:20%\">\n",
    "            <span style=\"font-weight: bold; font-size: 2em\">.from_dict</span>\n",
    "        </div>\n",
    "        <div style=\"display: inline-grid; font-size: 1.7em; max-width:60%; padding-left: 30px\">\n",
    "            This method reads the information from a python dictionary and turns it into a DataFrame. The dictionary must have one of the accepted dictionary structures.\n",
    "        </div>\n",
    "    </div>\n",
    "    <div style=\"display: inline-row\">\n",
    "        <div style=\"display: inline-grid; padding-left: 3em; width:20%\">\n",
    "            <span style=\"font-weight: bold; font-size: 2em\">.read_csv</span>\n",
    "        </div>\n",
    "        <div style=\"display: inline-grid; font-size: 1.7em; max-width:60%; padding-left: 30px\">\n",
    "            This method reads the information from a csv file. This file can be located in local storage or on the internet, in which case you can specify a URL. It also allows you to read compressed csv files by specifying the compression type, excluding zip format.\n",
    "        </div>\n",
    "    </div>\n",
    "    <div style=\"display: inline-row\">\n",
    "        <div style=\"display: inline-grid; padding-left: 3em; width:20%\">\n",
    "            <span style=\"font-weight: bold; font-size: 2em\">.describe</span>\n",
    "        </div>\n",
    "        <div style=\"display: inline-grid; font-size: 1.7em; max-width:60%; padding-left: 30px\">\n",
    "            This method generates basic statistics like median tendency, standard deviation, count of present values (not nan), and others.\n",
    "        </div>\n",
    "    </div>\n",
    "    <div style=\"display: inline-row\">\n",
    "        <div style=\"display: inline-grid; padding-left: 3em; width:20%\">\n",
    "            <span style=\"font-weight: bold; font-size: 2em\">.value_counts</span>\n",
    "        </div>\n",
    "        <div style=\"display: inline-grid; font-size: 1.7em; max-width:60%; padding-left: 30px\">\n",
    "            This method counts the present values in a Series object and records how many of each value are present. It returns a Series object with the unique values of the original Series as the index and the frequency of each individual value in the set.\n",
    "        </div>\n",
    "    </div>\n",
    "    <div style=\"display: inline-row\">\n",
    "        <div style=\"display: inline-grid; padding-left: 3em; width:20%\">\n",
    "            <span style=\"font-weight: bold; font-size: 2em\">.unique</span>\n",
    "        </div>\n",
    "        <div style=\"display: inline-grid; font-size: 1.7em; max-width:60%; padding-left: 30px\">\n",
    "            This method returns a list of different values, omitting the duplicates.\n",
    "        </div>\n",
    "    </div>\n",
    "    <div style=\"display: inline-row\">\n",
    "        <div style=\"display: inline-grid; padding-left: 3em; width:20%\">\n",
    "            <span style=\"font-weight: bold; font-size: 2em\">Series arithmetic functions</span>\n",
    "        </div>\n",
    "        <div style=\"display: inline-grid; font-size: 1.7em; max-width:60%; padding-left: 30px\">\n",
    "            There is a set of arithmetic methods that belong to a series. These methods are useful when you are performing a data analysis over the data or you want to find meaningful information over a data set. Some of these funcions are:\n",
    "            <ul style=\"list-style-image: url(../files/images/python_bullet_point.png)\">\n",
    "                <li>.var: Calculates unbiased variance of a column or a row</li>\n",
    "                <li>.std: Calculates the standard deviation of a column or a row</li>\n",
    "                <li>.mean: Calculates the mean of a column or a row</li>\n",
    "                <li>.median: Calculates the median tendency of a column or a row</li>\n",
    "                <li>.quantile: Returns the values of a given quantile of a column or a row</li>\n",
    "                <li>.count: Returns a Series of present values of a column or a row</li>\n",
    "                <li>.sum: Returns the sum of the values present in a column or a row</li>\n",
    "                <li>.min: Returns the minimum numeric value in a column or a row</li>\n",
    "                <li>.max: Returns the maximum numeric value in a column or a row</li>\n",
    "                <li>.abs: Returns a Series or DataFrame object with the absolute value of each numeric value. If the column has non-numeric values (except for Nan) it will fail; nonetheless, it supports timedelta objects</li>\n",
    "                <li>.cumsum: Returns the cumulative sum of all elements in a Series</li>\n",
    "            </ul>\n",
    "        </div>\n",
    "    </div>\n",
    "</div>\n",
    "<!-- <div style=\"widht:150px;heigth: 100px; position: absolute;bottom: 1%; right: 0; width: 300px; height: 100px; background-image:url(../files/images/pycon_title.svg);background-repeat: no-repeat;background-size:contain; padding-right: 8%; padding-botom:10%\"></div>     -->\n",
    "</div>"
   ]
  },
  {
   "cell_type": "markdown",
   "metadata": {},
   "source": [
    "<div style=\"background-image:url(../files/images/slide_background.png);background-repeat: no-repeat;background-size:cover;width:100%;height: 100%;color:white; padding-left: 50px\">\n",
    "<div style=\"font-weight: bold; font-size: 5em;\">Selecting Columns</div>\n",
    "\n",
    "<p style=\"text-align: justify; font-size: 2em; font-family: helvetica; padding-bottom: 80px; padding-left: 50px; padding-right: 100px;\">\n",
    "In the case that it is necessary to check some of the columns in a DataFrame, the most common way to do this is by iterating over the columns list of the DataFrame. To do this, search for a prefix in the name of each column or select the columns by type. Fortunately, pandas offers a simple way to select columns by type or name and returns a DataFrame only with the matching columns.\n",
    "</p>\n",
    "<!-- <div style=\"widht:150px;heigth: 100px; position: absolute;bottom: 4%; right: 0; width: 300px; height: 100px; background-image:url(../files/images/pycon_title.svg);background-repeat: no-repeat;background-size:contain; padding-right: 8%; padding-botom:10%\"></div>     -->\n",
    "</div>"
   ]
  },
  {
   "cell_type": "code",
   "execution_count": null,
   "metadata": {},
   "outputs": [],
   "source": [
    "# select columns by type\n",
    "outer.select_dtypes('datetime64').head()"
   ]
  },
  {
   "cell_type": "code",
   "execution_count": null,
   "metadata": {},
   "outputs": [],
   "source": [
    "# code select columns by name (using .filter)\n",
    "outer.filter(regex='_count$').head()"
   ]
  },
  {
   "cell_type": "code",
   "execution_count": null,
   "metadata": {},
   "outputs": [],
   "source": [
    "# code columns difference\n",
    "outer.select_dtypes(exclude='object').head()"
   ]
  },
  {
   "cell_type": "markdown",
   "metadata": {},
   "source": [
    "<div style=\"background-image:url(../files/images/slide_background.png);background-repeat: no-repeat;background-size:cover;width:100%;height: 100%;color:white; padding-left: 50px\">\n",
    "<div style=\"font-weight: bold; font-size: 5em;\">Windowing &amp; Expanding</div>\n",
    "\n",
    "<p style=\"text-align: justify; font-size: 2em; font-family: helvetica; padding-left: 50px; padding-right: 100px;\">\n",
    "A common task in data analysis is slicing data based on a fixed number of registers or a fixed period of time. To do that, the most common method is to create a loop to query the segment of data and then perform calculations. Nevertheless, pandas offers rolling and expanding methods to simplify this task.\n",
    "</p>\n",
    "<p style=\"text-align: justify; font-size: 2em; font-family: helvetica; padding-left: 50px; padding-right: 100px;\">\n",
    "The .rolling method, allows you to create a slice of data based on the specified number of rows. Additionaly, thanks to the big date types API, you can specify a time period for your window if you have a date type column or index.\n",
    "</p>\n",
    "<p style=\"text-align: justify; font-size: 2em; font-family: helvetica; padding-left: 50px; padding-right: 100px;\">\n",
    "The .expand method allows you to create a stating slice of data based on the specified number of rows and increment it to the end of the DataFrame.\n",
    "</p>\n",
    "<p style=\"text-align: justify; font-size: 2em; font-family: helvetica; padding-bottom: 80px; padding-left: 50px; padding-right: 100px;\">\n",
    "Both methods return a window object that is able to perform operations over the window in each iteration without looping.\n",
    "</p>\n",
    "<!-- <div style=\"widht:150px;heigth: 100px; position: absolute;bottom: 4%; right: 0; width: 300px; height: 100px; background-image:url(../files/images/pycon_title.svg);background-repeat: no-repeat;background-size:contain; padding-right: 8%; padding-botom:10%\"></div>     -->\n",
    "</div>"
   ]
  },
  {
   "cell_type": "code",
   "execution_count": null,
   "metadata": {},
   "outputs": [],
   "source": [
    "# rolling window\n",
    "outer[['div_count', 'script_count']].rolling(10, min_periods=1).sum().head(15)"
   ]
  },
  {
   "cell_type": "code",
   "execution_count": null,
   "metadata": {},
   "outputs": [],
   "source": [
    "# code expanding window\n",
    "outer[['div_count', 'script_count']].expanding(1).sum().head()"
   ]
  },
  {
   "cell_type": "markdown",
   "metadata": {},
   "source": [
    "<div style=\"background-image:url(../files/images/slide_background.png);background-repeat: no-repeat;background-size:cover;width:100%;height: 100%;color:white; padding-left: 50px\">\n",
    "<div style=\"font-weight: bold; font-size: 5em;\">Grouping &amp; Aggregations</div>\n",
    "\n",
    "<p style=\"text-align: justify; font-size: 2em; font-family: helvetica; padding-bottom: 80px; padding-left: 50px; padding-right: 100px;\">\n",
    "There are situations in which you want to segregate information based on a category or multiple categories and then, on each segregated segment of information, you want to perform some calculations. Both tasks are grouping and aggregating information; again, pandas API is ready for it! The .groupby method allows you to choose columns to create groups and will return a group object. This object allows you to perform aggregation operations that return a new DataFrame object with the grouping columns as the index (one or more) in addition to the result of the aggregation.\n",
    "</p>\n",
    "<!-- <div style=\"widht:150px;heigth: 100px; position: absolute;bottom: 4%; right: 0; width: 300px; height: 100px; background-image:url(../files/images/pycon_title.svg);background-repeat: no-repeat;background-size:contain; padding-right: 8%; padding-botom:10%\"></div>     -->\n",
    "</div>"
   ]
  },
  {
   "cell_type": "markdown",
   "metadata": {},
   "source": [
    "<div style=\"background-image:url(../files/images/slide_background.png);background-repeat: no-repeat;background-size:cover;width:100%;height: 100%;color:white; padding-left: 50px\">\n",
    "<div style=\"font-weight: bold; font-size: 4em; padding-left: 100px\">.groupby</div>\n",
    "\n",
    "<p style=\"text-align: justify; font-size: 2em; font-family: helvetica; padding-bottom: 80px; padding-left: 150px; padding-right: 100px;\">\n",
    "The group object has several built-in methods for aggregations. Most of these methods are valid for numerical series, but if you want to create a custom aggregation not implemented in pandas, you can also use the .apply method on groups. This will perform the apply operation for each group. It is important to note that grouping criteria can also be a lambda or custom defined function.\n",
    "</p>\n",
    "<!-- <div style=\"widht:150px;heigth: 100px; position: absolute;bottom: 4%; right: 0; width: 300px; height: 100px; background-image:url(../files/images/pycon_title.svg);background-repeat: no-repeat;background-size:contain; padding-right: 8%; padding-botom:10%\"></div>     -->\n",
    "</div>"
   ]
  },
  {
   "cell_type": "code",
   "execution_count": null,
   "metadata": {},
   "outputs": [],
   "source": [
    "outer.columns"
   ]
  },
  {
   "cell_type": "code",
   "execution_count": null,
   "metadata": {},
   "outputs": [],
   "source": [
    "outer.index.names"
   ]
  },
  {
   "cell_type": "code",
   "execution_count": null,
   "metadata": {},
   "outputs": [],
   "source": [
    "group = outer.groupby(by=['issuer','extensions_number'])"
   ]
  },
  {
   "cell_type": "code",
   "execution_count": null,
   "metadata": {},
   "outputs": [],
   "source": [
    "print(type(group))\n",
    "print(len(group.groups))"
   ]
  },
  {
   "cell_type": "markdown",
   "metadata": {},
   "source": [
    "<div style=\"background-image:url(../files/images/slide_background.png);background-repeat: no-repeat;background-size:cover;width:100%;height: 100%;color:white; padding-left: 50px\">\n",
    "<div style=\"font-weight: bold; font-size: 4em; padding-left: 100px\">Aggregations</div>\n",
    "\n",
    "<p style=\"text-align: justify; font-size: 2em; font-family: helvetica; padding-bottom: 80px; padding-left: 150px; padding-right: 100px;\">\n",
    "Aggregations can be calculated one-by-one or multiples at the same time, it is even possible to calculate multiple aggregations to one multiple columns selectively, all with just one line of code.\n",
    "</p>\n",
    "<!-- <div style=\"widht:150px;heigth: 100px; position: absolute;bottom: 4%; right: 0; width: 300px; height: 100px; background-image:url(../files/images/pycon_title.svg);background-repeat: no-repeat;background-size:contain; padding-right: 8%; padding-botom:10%\"></div>     -->\n",
    "</div>"
   ]
  },
  {
   "cell_type": "code",
   "execution_count": null,
   "metadata": {},
   "outputs": [],
   "source": [
    "section_pattern = '({})'.format(escape('<section'))\n",
    "canvas_pattern = '({})'.format(escape('<canvas'))\n",
    "article_pattern = '({})'.format(escape('<article'))\n",
    "nav_pattern = '({})'.format(escape('<nav'))\n",
    "outer = outer.assign(section_count=outer.content.str.count(section_pattern),\n",
    "            canvas_count=outer.content.str.count(canvas_pattern),\n",
    "            article_count=outer.content.str.count(article_pattern),\n",
    "            nav_count=outer.content.str.count(nav_pattern))"
   ]
  },
  {
   "cell_type": "code",
   "execution_count": null,
   "metadata": {},
   "outputs": [],
   "source": [
    "# sum aggregation\n",
    "group[['ServerName']].count()"
   ]
  },
  {
   "cell_type": "code",
   "execution_count": null,
   "metadata": {},
   "outputs": [],
   "source": [
    "# sum and count aggregation\n",
    "outer.groupby(by=['issuer']).agg({'ServerName': ['count'], 'extensions_number': ['mean','max','min']}).head()"
   ]
  },
  {
   "cell_type": "markdown",
   "metadata": {},
   "source": [
    "<div style=\"background-image:url(../files/images/slide_background.png);background-repeat: no-repeat;background-size:cover;width:100%;height: 100%;color:white; padding-left: 50px\">\n",
    "<div style=\"font-weight: bold; font-size: 15em; text-align: center; padding-bottom:30px;\">Thanks</div>\n",
    "<ul style=\"font-size: 3em;  padding-bottom: 100px\">\n",
    "    <li style=\"list-style-image: url(../files/images/twitter_icon.png)\">@luisdcamachog</li>\n",
    "    <li style=\"list-style-image: url(../files/images/square-linkedin-512.png)\">https://www.linkedin.com/in/luisdcamachog</li>\n",
    "    <li style=\"list-style-image: url(../files/images/github.png)\">https://github.com/LuisDavidCamacho/high-performance-pandas</li>\n",
    "    <li style=\"list-style-image: url(../files/images/email.png)\">luis.camacho@cyxtera.com</li>\n",
    "</ul>\n",
    "<div style=\"widht:150px;heigth: 100px; position: absolute;bottom: 4%; right: 0; width: 300px; height: 100px; background-image:url(../files/images/pycon_title.svg);background-repeat: no-repeat;background-size:contain; padding-right: 8%; padding-botom:10%\"></div>    \n",
    "</div>"
   ]
  }
 ],
 "metadata": {
  "kernelspec": {
   "display_name": "Python 3",
   "language": "python",
   "name": "python3"
  },
  "language_info": {
   "codemirror_mode": {
    "name": "ipython",
    "version": 3
   },
   "file_extension": ".py",
   "mimetype": "text/x-python",
   "name": "python",
   "nbconvert_exporter": "python",
   "pygments_lexer": "ipython3",
   "version": "3.6.7"
  }
 },
 "nbformat": 4,
 "nbformat_minor": 2
}
